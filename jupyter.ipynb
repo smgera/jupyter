{
 "cells": [
  {
   "cell_type": "code",
   "execution_count": null,
   "metadata": {},
   "outputs": [],
   "source": [
    "pip install alpha_vantage pandas matplotlib"
   ]
  },
  {
   "cell_type": "code",
   "execution_count": null,
   "metadata": {},
   "outputs": [],
   "source": [
    "\"\"\"\n",
    "Retrieve intraday stock data from Alpha Vantage API.\n",
    "\"\"\"\n",
    "\n",
    "#Alpha Vantage API to download 15 days of minute data (only if required)\n",
    "from alpha_vantage.timeseries import TimeSeries\n",
    "apikey='3Y82JYC9M82ML1C5'\n",
    " \n",
    "# Get pandas object with the intraday data and another with the call's metadata\n",
    "ts = TimeSeries(key=apikey, output_format='pandas')\n",
    "print(ts.get_daily(symbol='AAPL'))"
   ]
  }
 ],
 "metadata": {
  "kernelspec": {
   "display_name": "Python 3",
   "language": "python",
   "name": "python3"
  },
  "language_info": {
   "codemirror_mode": {
    "name": "ipython",
    "version": 3
   },
   "file_extension": ".py",
   "mimetype": "text/x-python",
   "name": "python",
   "nbconvert_exporter": "python",
   "pygments_lexer": "ipython3",
   "version": "3.7.6"
  }
 },
 "nbformat": 4,
 "nbformat_minor": 4
}
